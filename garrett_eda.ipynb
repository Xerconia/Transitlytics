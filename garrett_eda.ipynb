{
 "cells": [
  {
   "cell_type": "code",
   "execution_count": 7,
   "metadata": {},
   "outputs": [
    {
     "name": "stdout",
     "output_type": "stream",
     "text": [
      "          HOUSEID  VEHID  VEHYEAR  MAKE  HHVEHCNT  VEHTYPE  VEHFUEL  \\\n",
      "0      9000013002      1     2015    48         2        3        1   \n",
      "1      9000013002      2     2019    48         2        3        1   \n",
      "2      9000013016      1     2011    49         1        1        1   \n",
      "3      9000013039      1     2015    35         1        1        1   \n",
      "4      9000013041      1     2014    34         1        1        1   \n",
      "...           ...    ...      ...   ...       ...      ...      ...   \n",
      "14679  9000218013      1     2018    30         1        3        1   \n",
      "14680  9000218021      1     2016    12         1        3        1   \n",
      "14681  9000218034      1     2018    37         2        3        1   \n",
      "14682  9000218034      2     2003    49         2        4        1   \n",
      "14683  9000218040      1     2020     7         1        4        1   \n",
      "\n",
      "       VEHCOMMERCIAL  VEHCOM_RS  VEHCOM_DEL  ...  URBAN  URBANSIZE  URBRUR  \\\n",
      "0                  2         -1          -1  ...      1          4       1   \n",
      "1                  2         -1          -1  ...      1          4       1   \n",
      "2                  2         -1          -1  ...      1          2       1   \n",
      "3                  2         -1          -1  ...      1          4       1   \n",
      "4                  2         -1          -1  ...      1          3       1   \n",
      "...              ...        ...         ...  ...    ...        ...     ...   \n",
      "14679              2         -1          -1  ...      1          1       1   \n",
      "14680              1          2           2  ...      4          6       2   \n",
      "14681              2         -1          -1  ...      4          6       2   \n",
      "14682              2         -1          -1  ...      4          6       2   \n",
      "14683              2         -1          -1  ...      4          6       2   \n",
      "\n",
      "       TDAYDATE  WRKCOUNT  STRATUMID       WTHHFIN     WTHHFIN5D  \\\n",
      "0        202202         1       1021   4621.758002      0.000000   \n",
      "1        202202         1       1021   4621.758002      0.000000   \n",
      "2        202202         2       1021   2982.998407   3878.814279   \n",
      "3        202201         1       1021  10355.890735  13150.678996   \n",
      "4        202201         1       1021   4926.862529   7061.357485   \n",
      "...         ...       ...        ...           ...           ...   \n",
      "14679    202301         0       1031   8792.888034  11731.186218   \n",
      "14680    202212         0       1032   2508.248447      0.000000   \n",
      "14681    202212         0       1032  12559.631900  17007.945486   \n",
      "14682    202212         0       1032  12559.631900  17007.945486   \n",
      "14683    202212         1       1032   9052.679669  11033.704405   \n",
      "\n",
      "          WTHHFIN2D  HHFAMINC_IMP  \n",
      "0      13946.191168            11  \n",
      "1      13946.191168            11  \n",
      "2          0.000000             7  \n",
      "3          0.000000             7  \n",
      "4          0.000000            11  \n",
      "...             ...           ...  \n",
      "14679      0.000000             3  \n",
      "14680  16373.594134             4  \n",
      "14681      0.000000             4  \n",
      "14682      0.000000             4  \n",
      "14683      0.000000             6  \n",
      "\n",
      "[14684 rows x 47 columns]\n"
     ]
    }
   ],
   "source": [
    "import pandas as pd\n",
    "hhv = pd.read_csv(\"dataset/hhv2pub.csv\")\n",
    "ldtv = pd.read_csv(\"dataset/ldtv2pub.csv\")\n",
    "perv = pd.read_csv(\"dataset/perv2pub.csv\")\n",
    "tripv = pd.read_csv(\"dataset/tripv2pub.csv\")\n",
    "vehv = pd.read_csv(\"dataset/vehv2pub.csv\")\n",
    "print(vehv)"
   ]
  }
 ],
 "metadata": {
  "kernelspec": {
   "display_name": "base",
   "language": "python",
   "name": "python3"
  },
  "language_info": {
   "codemirror_mode": {
    "name": "ipython",
    "version": 3
   },
   "file_extension": ".py",
   "mimetype": "text/x-python",
   "name": "python",
   "nbconvert_exporter": "python",
   "pygments_lexer": "ipython3",
   "version": "3.11.7"
  }
 },
 "nbformat": 4,
 "nbformat_minor": 2
}
