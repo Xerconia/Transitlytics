{
  "cells": [
    {
      "cell_type": "markdown",
      "metadata": {
        "colab_type": "text",
        "id": "view-in-github"
      },
      "source": [
        "<a href=\"https://colab.research.google.com/github/Xerconia/Transitlytics/blob/main/hisa_eda.ipynb\" target=\"_parent\"><img src=\"https://colab.research.google.com/assets/colab-badge.svg\" alt=\"Open In Colab\"/></a>"
      ]
    },
    {
      "cell_type": "markdown",
      "metadata": {},
      "source": [
        "Import and view data"
      ]
    },
    {
      "cell_type": "code",
      "execution_count": 16,
      "metadata": {
        "id": "7AsRIUhvK5Wz"
      },
      "outputs": [],
      "source": [
        "import pandas as pd"
      ]
    },
    {
      "cell_type": "markdown",
      "metadata": {},
      "source": []
    },
    {
      "cell_type": "code",
      "execution_count": 2,
      "metadata": {
        "colab": {
          "base_uri": "https://localhost:8080/",
          "height": 444
        },
        "id": "CMWsyRMEcj_q",
        "outputId": "4b8ea200-4a91-438f-d97d-f714f53cf65b"
      },
      "outputs": [],
      "source": [
        "hh = pd.read_csv(\"dataset/hhv2pub.csv\")\n",
        "ldt = pd.read_csv(\"dataset/ldtv2pub.csv\")\n",
        "per = pd.read_csv(\"dataset/perv2pub.csv\")\n",
        "trip = pd.read_csv(\"dataset/tripv2pub.csv\")\n",
        "veh = pd.read_csv(\"dataset/vehv2pub.csv\")"
      ]
    },
    {
      "cell_type": "code",
      "execution_count": 3,
      "metadata": {
        "colab": {
          "base_uri": "https://localhost:8080/",
          "height": 444
        },
        "id": "EiXLbs4HLnzo",
        "outputId": "6c6f2aa2-6938-4d9c-9c99-1c6aa1e0d835"
      },
      "outputs": [
        {
          "name": "stdout",
          "output_type": "stream",
          "text": [
            "         HOUSEID       WTHHFIN     WTHHFIN5D     WTHHFIN2D  NUMADLT  HOMEOWN  \\\n",
            "0     9000013002   4621.758002      0.000000  13946.191168        2        1   \n",
            "1     9000013016   2982.998407   3878.814279      0.000000        2        3   \n",
            "2     9000013026   9979.573402  14700.796695      0.000000        1        3   \n",
            "3     9000013039  10355.890735  13150.678996      0.000000        2        3   \n",
            "4     9000013041   4926.862529   7061.357485      0.000000        1        1   \n",
            "...          ...           ...           ...           ...      ...      ...   \n",
            "7888  9000218013   8792.888034  11731.186218      0.000000        2        1   \n",
            "7889  9000218021   2508.248447      0.000000  16373.594134        1        2   \n",
            "7890  9000218034  12559.631900  17007.945486      0.000000        2        2   \n",
            "7891  9000218036  76132.849334  94596.352132      0.000000        1        3   \n",
            "7892  9000218040   9052.679669  11033.704405      0.000000        1        2   \n",
            "\n",
            "      HOMETYPE  RAIL  CENSUS_D  CENSUS_R  ...  URBAN  URBANSIZE  URBRUR  \\\n",
            "0            1     1         1         1  ...      1          4       1   \n",
            "1            3     2         1         1  ...      1          2       1   \n",
            "2            3     1         1         1  ...      1          4       1   \n",
            "3            3     1         1         1  ...      1          4       1   \n",
            "4            2     2         1         1  ...      1          3       1   \n",
            "...        ...   ...       ...       ...  ...    ...        ...     ...   \n",
            "7888         1     2         6         3  ...      1          1       1   \n",
            "7889         1     2         6         3  ...      4          6       2   \n",
            "7890         1     2         6         3  ...      4          6       2   \n",
            "7891         1     2         6         3  ...      4          6       2   \n",
            "7892         1     2         6         3  ...      4          6       2   \n",
            "\n",
            "      PPT517  YOUNGCHILD  RESP_CNT  URBRUR_2010  TDAYDATE  WRKCOUNT  STRATUMID  \n",
            "0          2           0         4            1    202202         1       1021  \n",
            "1          0           0         2            1    202202         2       1021  \n",
            "2          0           0         1            1    202202         1       1021  \n",
            "3          2           0         4            1    202201         1       1021  \n",
            "4          0           0         1            1    202201         1       1021  \n",
            "...      ...         ...       ...          ...       ...       ...        ...  \n",
            "7888       0           0         2            1    202301         0       1031  \n",
            "7889       0           0         1            2    202212         0       1032  \n",
            "7890       0           0         2            2    202212         0       1032  \n",
            "7891       0           0         1            2    202301         0       1032  \n",
            "7892       0           0         1            2    202212         1       1032  \n",
            "\n",
            "[7893 rows x 35 columns]\n"
          ]
        }
      ],
      "source": [
        "print(hh)\n"
      ]
    },
    {
      "cell_type": "code",
      "execution_count": 4,
      "metadata": {
        "colab": {
          "base_uri": "https://localhost:8080/",
          "height": 444
        },
        "id": "QFjkLgfRcWR_",
        "outputId": "61276a05-3f84-45aa-f6d7-f8af5ce38e80"
      },
      "outputs": [
        {
          "name": "stdout",
          "output_type": "stream",
          "text": [
            "          HOUSEID  PERSONID  LONGDIST  MAINMODE  INT_FLAG  LD_NUMONTRP  \\\n",
            "0      9000013002         1         1         1         1            2   \n",
            "1      9000013002         2         1         3         1            2   \n",
            "2      9000013002         3         0         3         1            5   \n",
            "3      9000013002         4         0         3         1            5   \n",
            "4      9000013016         1         0         1         1            2   \n",
            "...           ...       ...       ...       ...       ...          ...   \n",
            "16992  9000218021         1         0        14         1            1   \n",
            "16993  9000218034         1         1         3         1            2   \n",
            "16994  9000218034         2         1         3         1            2   \n",
            "16995  9000218036         1         0        -1        -1           -1   \n",
            "16996  9000218040         1         0         1         1            2   \n",
            "\n",
            "       ONTP_P1  ONTP_P2  ONTP_P3  ONTP_P4  ...    WTPERFIN2D  R_AGE  R_SEX  \\\n",
            "0            1        1        2        2  ...  13363.809355     39      2   \n",
            "1            1        1        2        2  ...  19360.094919     42      1   \n",
            "2            1        1        1        1  ...   7285.044994      8     -7   \n",
            "3            1        1        1        1  ...  27109.336829      5     -7   \n",
            "4            1        1       -9       -9  ...      0.000000     32      2   \n",
            "...        ...      ...      ...      ...  ...           ...    ...    ...   \n",
            "16992        1       -9       -9       -9  ...   8249.957449     74      2   \n",
            "16993        1        1       -9       -9  ...      0.000000     60      2   \n",
            "16994        1        1       -9       -9  ...      0.000000     62      1   \n",
            "16995       -1       -1       -1       -1  ...      0.000000     42      2   \n",
            "16996        1       -9       -9       -9  ...      0.000000     58      2   \n",
            "\n",
            "       WORKER  DRIVER  R_RACE  R_HISP  PROXY  EDUC  R_SEX_IMP  \n",
            "0           2       1       1       2      1     7          2  \n",
            "1           1       1       1       2      2     7          1  \n",
            "2          -1      -1       1       2      2    -1          1  \n",
            "3          -1      -1       1       2      2    -1          1  \n",
            "4           1       1       1       2      1     6          2  \n",
            "...       ...     ...     ...     ...    ...   ...        ...  \n",
            "16992       2       1       1       2      1     6          2  \n",
            "16993       2       1       1       2      1     2          2  \n",
            "16994       2       1       1       2      1     1          1  \n",
            "16995       2       2       1       2      1     1          2  \n",
            "16996       1       1       1       2      1     4          2  \n",
            "\n",
            "[16997 rows x 66 columns]\n"
          ]
        }
      ],
      "source": [
        "print(ldt)\n"
      ]
    },
    {
      "cell_type": "code",
      "execution_count": 5,
      "metadata": {
        "colab": {
          "base_uri": "https://localhost:8080/",
          "height": 444
        },
        "id": "tLzm4KJ8cZQF",
        "outputId": "a9350c47-143f-447b-9de4-7e43a2732183"
      },
      "outputs": [
        {
          "name": "stdout",
          "output_type": "stream",
          "text": [
            "          HOUSEID  PERSONID      WTPERFIN    WTPERFIN5D    WTPERFIN2D  R_AGE  \\\n",
            "0      9000013002         1   3938.688806      0.000000  13363.809355     39   \n",
            "1      9000013002         2   5409.514573      0.000000  19360.094919     42   \n",
            "2      9000013002         3   3013.582163      0.000000   7285.044994      8   \n",
            "3      9000013002         4   6214.108740      0.000000  27109.336829      5   \n",
            "4      9000013016         1   3183.420810   4177.234452      0.000000     32   \n",
            "...           ...       ...           ...           ...           ...    ...   \n",
            "16992  9000218021         1   1183.690130      0.000000   8249.957449     74   \n",
            "16993  9000218034         1   7793.315388  10009.558598      0.000000     60   \n",
            "16994  9000218034         2   7775.819529   9681.166429      0.000000     62   \n",
            "16995  9000218036         1  33531.177084  38232.679184      0.000000     42   \n",
            "16996  9000218040         1  11455.059845  12936.571349      0.000000     58   \n",
            "\n",
            "       R_SEX  R_RELAT  WORKER  DRIVER  ...  MSACAT  MSASIZE  TRAVDAY  URBAN  \\\n",
            "0          2        7       2       1  ...       1        5        1      1   \n",
            "1          1        1       1       1  ...       1        5        1      1   \n",
            "2         -7        2      -1      -1  ...       1        5        1      1   \n",
            "3         -7        2      -1      -1  ...       1        5        1      1   \n",
            "4          2        7       1       1  ...       3        3        4      1   \n",
            "...      ...      ...     ...     ...  ...     ...      ...      ...    ...   \n",
            "16992      2        7       2       1  ...       3        1        1      4   \n",
            "16993      2        7       2       1  ...       4        6        5      4   \n",
            "16994      1        1       2       1  ...       4        6        5      4   \n",
            "16995      2        7       2       2  ...       4        6        4      4   \n",
            "16996      2        7       1       1  ...       4        6        5      4   \n",
            "\n",
            "       URBANSIZE  URBRUR  TDAYDATE  WRKCOUNT  STRATUMID  HHFAMINC_IMP  \n",
            "0              4       1    202202         1       1021            11  \n",
            "1              4       1    202202         1       1021            11  \n",
            "2              4       1    202202         1       1021            11  \n",
            "3              4       1    202202         1       1021            11  \n",
            "4              2       1    202202         2       1021             7  \n",
            "...          ...     ...       ...       ...        ...           ...  \n",
            "16992          6       2    202212         0       1032             4  \n",
            "16993          6       2    202212         0       1032             4  \n",
            "16994          6       2    202212         0       1032             4  \n",
            "16995          6       2    202301         0       1032             2  \n",
            "16996          6       2    202212         1       1032             6  \n",
            "\n",
            "[16997 rows x 129 columns]\n"
          ]
        }
      ],
      "source": [
        "print(per)\n"
      ]
    },
    {
      "cell_type": "code",
      "execution_count": 6,
      "metadata": {
        "colab": {
          "base_uri": "https://localhost:8080/",
          "height": 444
        },
        "id": "lucJrVunczTI",
        "outputId": "f8e0a3b8-6140-4f75-d3db-1e9324a57baa"
      },
      "outputs": [
        {
          "name": "stdout",
          "output_type": "stream",
          "text": [
            "          HOUSEID  PERSONID  TRIPID  SEQ_TRIPID     VEHCASEID  FRSTHM  PARK  \\\n",
            "0      9000013002         1       1           1  900001300201       1     2   \n",
            "1      9000013002         1       2           2  900001300201       1     2   \n",
            "2      9000013002         2       1           1  900001300202       1    -1   \n",
            "3      9000013002         2       2           2  900001300202       1    -1   \n",
            "4      9000013002         2       3           3  900001300202       1    -1   \n",
            "...           ...       ...     ...         ...           ...     ...   ...   \n",
            "31069  9000218013         1       2           2  900021801301       1     2   \n",
            "31070  9000218013         1       3           3  900021801301       1     2   \n",
            "31071  9000218040         1       1           1  900021804001       1     2   \n",
            "31072  9000218040         1       2           2  900021804001       1     2   \n",
            "31073  9000218040         1       3           3            -1       1     2   \n",
            "\n",
            "       HHMEMDRV  TDWKND  TRAVDAY  ...  WORKER  DRIVER  R_RACE  R_HISP  PROXY  \\\n",
            "0             1       1        1  ...       2       1       1       2      1   \n",
            "1             1       1        1  ...       2       1       1       2      1   \n",
            "2             1       1        1  ...       1       1       1       2      2   \n",
            "3             1       1        1  ...       1       1       1       2      2   \n",
            "4             1       1        1  ...       1       1       1       2      2   \n",
            "...         ...     ...      ...  ...     ...     ...     ...     ...    ...   \n",
            "31069         1       2        5  ...       2       1       1       2      1   \n",
            "31070         1       2        5  ...       2       1       1       2      1   \n",
            "31071         1       2        5  ...       1       1       1       2      1   \n",
            "31072         1       2        5  ...       1       1       1       2      1   \n",
            "31073        -1       2        5  ...       1       1       1       2      1   \n",
            "\n",
            "       EDUC  PRMACT  R_SEX_IMP  VEHTYPE  HHFAMINC_IMP  \n",
            "0         7       3          2        3            11  \n",
            "1         7       3          2        3            11  \n",
            "2         7      -1          1        3            11  \n",
            "3         7      -1          1        3            11  \n",
            "4         7      -1          1        3            11  \n",
            "...     ...     ...        ...      ...           ...  \n",
            "31069     7       5          2        3             3  \n",
            "31070     7       5          2        3             3  \n",
            "31071     4      -1          2        4             6  \n",
            "31072     4      -1          2        4             6  \n",
            "31073     4      -1          2       -1             6  \n",
            "\n",
            "[31074 rows x 85 columns]\n"
          ]
        }
      ],
      "source": [
        "print(trip)\n"
      ]
    },
    {
      "cell_type": "code",
      "execution_count": 7,
      "metadata": {},
      "outputs": [
        {
          "name": "stdout",
          "output_type": "stream",
          "text": [
            "          HOUSEID  VEHID  VEHYEAR  MAKE  HHVEHCNT  VEHTYPE  VEHFUEL  \\\n",
            "0      9000013002      1     2015    48         2        3        1   \n",
            "1      9000013002      2     2019    48         2        3        1   \n",
            "2      9000013016      1     2011    49         1        1        1   \n",
            "3      9000013039      1     2015    35         1        1        1   \n",
            "4      9000013041      1     2014    34         1        1        1   \n",
            "...           ...    ...      ...   ...       ...      ...      ...   \n",
            "14679  9000218013      1     2018    30         1        3        1   \n",
            "14680  9000218021      1     2016    12         1        3        1   \n",
            "14681  9000218034      1     2018    37         2        3        1   \n",
            "14682  9000218034      2     2003    49         2        4        1   \n",
            "14683  9000218040      1     2020     7         1        4        1   \n",
            "\n",
            "       VEHCOMMERCIAL  VEHCOM_RS  VEHCOM_DEL  ...  URBAN  URBANSIZE  URBRUR  \\\n",
            "0                  2         -1          -1  ...      1          4       1   \n",
            "1                  2         -1          -1  ...      1          4       1   \n",
            "2                  2         -1          -1  ...      1          2       1   \n",
            "3                  2         -1          -1  ...      1          4       1   \n",
            "4                  2         -1          -1  ...      1          3       1   \n",
            "...              ...        ...         ...  ...    ...        ...     ...   \n",
            "14679              2         -1          -1  ...      1          1       1   \n",
            "14680              1          2           2  ...      4          6       2   \n",
            "14681              2         -1          -1  ...      4          6       2   \n",
            "14682              2         -1          -1  ...      4          6       2   \n",
            "14683              2         -1          -1  ...      4          6       2   \n",
            "\n",
            "       TDAYDATE  WRKCOUNT  STRATUMID       WTHHFIN     WTHHFIN5D  \\\n",
            "0        202202         1       1021   4621.758002      0.000000   \n",
            "1        202202         1       1021   4621.758002      0.000000   \n",
            "2        202202         2       1021   2982.998407   3878.814279   \n",
            "3        202201         1       1021  10355.890735  13150.678996   \n",
            "4        202201         1       1021   4926.862529   7061.357485   \n",
            "...         ...       ...        ...           ...           ...   \n",
            "14679    202301         0       1031   8792.888034  11731.186218   \n",
            "14680    202212         0       1032   2508.248447      0.000000   \n",
            "14681    202212         0       1032  12559.631900  17007.945486   \n",
            "14682    202212         0       1032  12559.631900  17007.945486   \n",
            "14683    202212         1       1032   9052.679669  11033.704405   \n",
            "\n",
            "          WTHHFIN2D  HHFAMINC_IMP  \n",
            "0      13946.191168            11  \n",
            "1      13946.191168            11  \n",
            "2          0.000000             7  \n",
            "3          0.000000             7  \n",
            "4          0.000000            11  \n",
            "...             ...           ...  \n",
            "14679      0.000000             3  \n",
            "14680  16373.594134             4  \n",
            "14681      0.000000             4  \n",
            "14682      0.000000             4  \n",
            "14683      0.000000             6  \n",
            "\n",
            "[14684 rows x 47 columns]\n"
          ]
        }
      ],
      "source": [
        "print(veh)"
      ]
    },
    {
      "cell_type": "markdown",
      "metadata": {},
      "source": [
        "Question: Of the total trips between 0-3 miles, what percent is done by walking, biking, public transit, or personal vehicle? How about trips of 3-10 miles or 10+ miles?"
      ]
    },
    {
      "cell_type": "code",
      "execution_count": null,
      "metadata": {},
      "outputs": [
        {
          "data": {
            "text/html": [
              "<div>\n",
              "<style scoped>\n",
              "    .dataframe tbody tr th:only-of-type {\n",
              "        vertical-align: middle;\n",
              "    }\n",
              "\n",
              "    .dataframe tbody tr th {\n",
              "        vertical-align: top;\n",
              "    }\n",
              "\n",
              "    .dataframe thead th {\n",
              "        text-align: right;\n",
              "    }\n",
              "</style>\n",
              "<table border=\"1\" class=\"dataframe\">\n",
              "  <thead>\n",
              "    <tr style=\"text-align: right;\">\n",
              "      <th></th>\n",
              "      <th>TRPMILES</th>\n",
              "    </tr>\n",
              "    <tr>\n",
              "      <th>TRPTRANS</th>\n",
              "      <th></th>\n",
              "    </tr>\n",
              "  </thead>\n",
              "  <tbody>\n",
              "    <tr>\n",
              "      <th>1</th>\n",
              "      <td>10.930488</td>\n",
              "    </tr>\n",
              "    <tr>\n",
              "      <th>2</th>\n",
              "      <td>10.633207</td>\n",
              "    </tr>\n",
              "    <tr>\n",
              "      <th>3</th>\n",
              "      <td>13.027771</td>\n",
              "    </tr>\n",
              "    <tr>\n",
              "      <th>4</th>\n",
              "      <td>14.374607</td>\n",
              "    </tr>\n",
              "    <tr>\n",
              "      <th>6</th>\n",
              "      <td>69.428776</td>\n",
              "    </tr>\n",
              "    <tr>\n",
              "      <th>7</th>\n",
              "      <td>8.702333</td>\n",
              "    </tr>\n",
              "    <tr>\n",
              "      <th>8</th>\n",
              "      <td>6.590010</td>\n",
              "    </tr>\n",
              "    <tr>\n",
              "      <th>9</th>\n",
              "      <td>5.861167</td>\n",
              "    </tr>\n",
              "    <tr>\n",
              "      <th>10</th>\n",
              "      <td>5.147089</td>\n",
              "    </tr>\n",
              "    <tr>\n",
              "      <th>11</th>\n",
              "      <td>8.297250</td>\n",
              "    </tr>\n",
              "    <tr>\n",
              "      <th>12</th>\n",
              "      <td>29.781720</td>\n",
              "    </tr>\n",
              "    <tr>\n",
              "      <th>13</th>\n",
              "      <td>241.411125</td>\n",
              "    </tr>\n",
              "    <tr>\n",
              "      <th>14</th>\n",
              "      <td>1252.372340</td>\n",
              "    </tr>\n",
              "    <tr>\n",
              "      <th>15</th>\n",
              "      <td>9.605621</td>\n",
              "    </tr>\n",
              "    <tr>\n",
              "      <th>16</th>\n",
              "      <td>8.032395</td>\n",
              "    </tr>\n",
              "    <tr>\n",
              "      <th>17</th>\n",
              "      <td>8.234850</td>\n",
              "    </tr>\n",
              "    <tr>\n",
              "      <th>18</th>\n",
              "      <td>2.843571</td>\n",
              "    </tr>\n",
              "    <tr>\n",
              "      <th>19</th>\n",
              "      <td>1.101409</td>\n",
              "    </tr>\n",
              "    <tr>\n",
              "      <th>20</th>\n",
              "      <td>0.832997</td>\n",
              "    </tr>\n",
              "    <tr>\n",
              "      <th>21</th>\n",
              "      <td>12.062514</td>\n",
              "    </tr>\n",
              "  </tbody>\n",
              "</table>\n",
              "</div>"
            ],
            "text/plain": [
              "             TRPMILES\n",
              "TRPTRANS             \n",
              "1           10.930488\n",
              "2           10.633207\n",
              "3           13.027771\n",
              "4           14.374607\n",
              "6           69.428776\n",
              "7            8.702333\n",
              "8            6.590010\n",
              "9            5.861167\n",
              "10           5.147089\n",
              "11           8.297250\n",
              "12          29.781720\n",
              "13         241.411125\n",
              "14        1252.372340\n",
              "15           9.605621\n",
              "16           8.032395\n",
              "17           8.234850\n",
              "18           2.843571\n",
              "19           1.101409\n",
              "20           0.832997\n",
              "21          12.062514"
            ]
          },
          "execution_count": 15,
          "metadata": {},
          "output_type": "execute_result"
        }
      ],
      "source": [
        "#trpmiles, trptrans\n",
        "#avg trip miles by transportation mode\n",
        "\n",
        "#select variables of interest\n",
        "trp_sel = trip[[\"TRPMILES\",\"TRPTRANS\"]]\n",
        "trp_sel\n",
        "\n",
        "#group trip miles by mode and take avg of miles\n",
        "trp_grp = trp_sel.groupby(\"TRPTRANS\").mean()\n",
        "trp_grp"
      ]
    },
    {
      "cell_type": "markdown",
      "metadata": {},
      "source": [
        "#to do: add desc to codes\n",
        "\n",
        "01=Car\n",
        "02=Van\n",
        "03=SUV/Crossover\n",
        "04=Pickup truck\n",
        "06=Recreational Vehicle\n",
        "07=Motorcycle\n",
        "08=Public or commuter bus\n",
        "09=School bus\n",
        "10=Street car or trolley car\n",
        "11=Subway or elevated rail\n",
        "12=Commuter rail\n",
        "13=Amtrak\n",
        "14=Airplane\n",
        "15=Taxicab or limo service\n",
        "16=Other ride-sharing service\n",
        "17=Paratransit/ Dial a ride\n",
        "18=Bicycle (including bikeshare, ebike, etc.)\n",
        "19=E-scooter\n",
        "20=Walked\n",
        "21=Other (specify)\n",
        "\n",
        "#to do: visualize"
      ]
    },
    {
      "cell_type": "markdown",
      "metadata": {},
      "source": []
    }
  ],
  "metadata": {
    "colab": {
      "authorship_tag": "ABX9TyNoKx7S0hM8F7kpEYqKg0zE",
      "include_colab_link": true,
      "mount_file_id": "1bvPV6dESGINDg23IDpT-9tNZ3-JCuaTz",
      "provenance": []
    },
    "kernelspec": {
      "display_name": "Python 3",
      "name": "python3"
    },
    "language_info": {
      "codemirror_mode": {
        "name": "ipython",
        "version": 3
      },
      "file_extension": ".py",
      "mimetype": "text/x-python",
      "name": "python",
      "nbconvert_exporter": "python",
      "pygments_lexer": "ipython3",
      "version": "3.13.2"
    }
  },
  "nbformat": 4,
  "nbformat_minor": 0
}
