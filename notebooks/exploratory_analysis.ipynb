{
    "cells": [
        {
            "cell_type": "markdown",
            "metadata": {},
            "source": [
                "# Exploratory Data Analysis (EDA) for Trip Purpose Prediction",
                "",
                "In this notebook, we will perform exploratory data analysis on the datasets to understand the distributions and relationships between household and individual characteristics and trip purposes."
            ]
        },
        {
            "cell_type": "code",
            "metadata": {},
            "source": [
                "import pandas as pd\n",
                "import numpy as np\n",
                "import matplotlib.pyplot as plt\n",
                "import seaborn as sns\n",
                "",
                "# Set visualisation style\n",
                "sns.set(style='whitegrid')"
            ]
        },
        {
            "cell_type": "code",
            "metadata": {},
            "source": [
                "# Load the datasets\n",
                "household_data = pd.read_csv('../data/processed/household_data.csv')\n",
                "person_data = pd.read_csv('../data/processed/person_data.csv')\n",
                "trip_data = pd.read_csv('../data/processed/trip_data.csv')\n",
                "",
                "# Display the first few rows of each dataset\n",
                "print('Household Data:')\n",
                "display(household_data.head())\n",
                "print('Person Data:')\n",
                "display(person_data.head())\n",
                "print('Trip Data:')\n",
                "display(trip_data.head())"
            ]
        },
        {
            "cell_type": "code",
            "metadata": {},
            "source": [
                "# Check for missing values in the datasets\n",
                "missing_household = household_data.isnull().sum()\n",
                "missing_person = person_data.isnull().sum()\n",
                "missing_trip = trip_data.isnull().sum()\n",
                "",
                "print('Missing Values in Household Data:')\n",
                "print(missing_household[missing_household > 0])\n",
                "print('\\nMissing Values in Person Data:')\n",
                "print(missing_person[missing_person > 0])\n",
                "print('\\nMissing Values in Trip Data:')\n",
                "print(missing_trip[missing_trip > 0])"
            ]
        },
        {
            "cell_type": "code",
            "metadata": {},
            "source": [
                "# Visualize the distribution of trip purposes\n",
                "plt.figure(figsize=(10, 6))\n",
                "sns.countplot(data=trip_data, x='trip_purpose', order=trip_data['trip_purpose'].value_counts().index)\n",
                "plt.title('Distribution of Trip Purposes')\n",
                "plt.xlabel('Trip Purpose')\n",
                "plt.ylabel('Count')\n",
                "plt.xticks(rotation=45)\n",
                "plt.show()"
            ]
        },
        {
            "cell_type": "code",
            "metadata": {},
            "source": [
                "# Analyze the relationship between household income and trip purpose\n",
                "plt.figure(figsize=(12, 6))\n",
                "sns.boxplot(data=trip_data.merge(household_data, on='household_id'), x='trip_purpose', y='HHFAMINC')\n",
                "plt.title('Household Income by Trip Purpose')\n",
                "plt.xlabel('Trip Purpose')\n",
                "plt.ylabel('Household Income')\n",
                "plt.xticks(rotation=45)\n",
                "plt.show()"
            ]
        },
        {
            "cell_type": "code",
            "metadata": {},
            "source": [
                "# Analyze the relationship between age and trip purpose\n",
                "plt.figure(figsize=(12, 6))\n",
                "sns.boxplot(data=trip_data.merge(person_data, on='person_id'), x='trip_purpose', y='AGE')\n",
                "plt.title('Age by Trip Purpose')\n",
                "plt.xlabel('Trip Purpose')\n",
                "plt.ylabel('Age')\n",
                "plt.xticks(rotation=45)\n",
                "plt.show()"
            ]
        },
        {
            "cell_type": "markdown",
            "metadata": {},
            "source": [
                "### Conclusion\n",
                "In this exploratory analysis, we have visualized the distributions of trip purposes and analyzed how household income and age relate to trip purposes. Further analysis can be conducted to refine our understanding and prepare for predictive modeling."
            ]
        }
    ],
    "metadata": {
        "kernelspec": {
            "display_name": "Python 3",
            "language": "python",
            "name": "python3"
        },
        "language_info": {
            "codemirror_mode": {
                "name": "ipython",
                "version": 3
            },
            "file_extension": ".py",
            "mimetype": "text/x-python",
            "name": "python",
            "nbconvert_exporter": "python",
            "pygments_lexer": "ipython3",
            "version": "3.8.5"
        }
    },
    "nbformat": 4,
    "nbformat_minor": 4
}