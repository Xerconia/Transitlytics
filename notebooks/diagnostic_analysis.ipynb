{
 "cells": [
  {
   "cell_type": "code",
   "execution_count": null,
   "id": "4952ce95",
   "metadata": {},
   "outputs": [],
   "source": [
    "#public transit (y/n)"
   ]
  }
 ],
 "metadata": {
  "language_info": {
   "name": "python"
  }
 },
 "nbformat": 4,
 "nbformat_minor": 5
}
